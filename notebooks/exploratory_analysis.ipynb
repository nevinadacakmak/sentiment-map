{
 "cells": [
  {
   "cell_type": "markdown",
   "metadata": {},
   "source": [
    "# Exploratory Data Analysis on Reddit Sentiment Data\n",
    "\n",
    "This notebook is used for exploratory data analysis (EDA) on the collected Reddit data. It includes visualizations and insights derived from the data to understand public sentiment across Canadian provinces."
   ]
  },
  {
   "cell_type": "code",
   "execution_count": 1,
   "metadata": {},
   "outputs": [],
   "source": [
    "import pandas as pd\n",
    "import numpy as np\n",
    "import matplotlib.pyplot as plt\n",
    "import seaborn as sns\n",
    "from src.database.mongodb_client import MongoDBClient\n",
    "from src.analysis.sentiment_analyzer import analyze_sentiment\n",
    "\n",
    "# Set up MongoDB client\n",
    "mongo_client = MongoDBClient()\n",
    "db = mongo_client.get_database()\n",
    "\n",
    "# Load data from MongoDB\n",
    "reddit_data = pd.DataFrame(list(db.reddit_posts.find()))\n",
    "reddit_data.head()"
   ]
  },
  {
   "cell_type": "code",
   "execution_count": 2,
   "metadata": {},
   "outputs": [],
   "source": [
    "# Data Cleaning and Preprocessing\n",
    "reddit_data.dropna(subset=['content'], inplace=True)\n",
    "reddit_data['content'] = reddit_data['content'].str.lower()  # Normalize text\n",
    "\n",
    "# Analyze sentiment\n",
    "reddit_data['sentiment'] = reddit_data['content'].apply(analyze_sentiment)\n",
    "reddit_data[['title', 'sentiment']].head()"
   ]
  },
  {
   "cell_type": "code",
   "execution_count": 3,
   "metadata": {},
   "outputs": [],
   "source": [
    "# Visualizing Sentiment Distribution\n",
    "plt.figure(figsize=(10, 6))\n",
    "sns.countplot(data=reddit_data, x='sentiment')\n",
    "plt.title('Sentiment Distribution of Reddit Posts')\n",
    "plt.xlabel('Sentiment')\n",
    "plt.ylabel('Count')\n",
    "plt.show()"
   ]
  },
  {
   "cell_type": "code",
   "execution_count": 4,
   "metadata": {},
   "outputs": [],
   "source": [
    "# Visualizing Sentiment by Province\n",
    "plt.figure(figsize=(12, 8))\n",
    "sns.boxplot(data=reddit_data, x='province', y='sentiment')\n",
    "plt.title('Sentiment Scores by Province')\n",
    "plt.xticks(rotation=45)\n",
    "plt.xlabel('Province')\n",
    "plt.ylabel('Sentiment Score')\n",
    "plt.show()"
   ]
  },
  {
   "cell_type": "code",
   "execution_count": 5,
   "metadata": {},
   "outputs": [],
   "source": [
    "# Additional visualizations can be added here\n",
    "# For example, trends over time, word clouds, etc."
   ]
  }
 ],
 "metadata": {
  "kernelspec": {
   "display_name": "Python 3",
   "language": "python",
   "name": "python3"
  },
  "language_info": {
   "codemirror_mode": {
    "name": "ipython",
    "version": 3
   },
   "file_extension": ".py",
   "mimetype": "text/x-python",
   "name": "python",
   "nbconvert_exporter": "python",
   "pygments_lexer": "ipython3",
   "version": "3.8.5"
  }
 },
 "nbformat": 4,
 "nbformat_minor": 4
}